{
 "cells": [
  {
   "cell_type": "code",
   "execution_count": 1,
   "id": "e5650598",
   "metadata": {},
   "outputs": [
    {
     "name": "stderr",
     "output_type": "stream",
     "text": [
      "C:\\Users\\nick.lamkey\\Miniconda3\\envs\\earth-analytics-python\\lib\\site-packages\\statsmodels\\compat\\pandas.py:65: FutureWarning: pandas.Int64Index is deprecated and will be removed from pandas in a future version. Use pandas.Index with the appropriate dtype instead.\n",
      "  from pandas import Int64Index as NumericIndex\n"
     ]
    }
   ],
   "source": [
    "import os\n",
    "import warnings\n",
    "\n",
    "import matplotlib.pyplot as plt\n",
    "import matplotlib.dates as mdates\n",
    "from matplotlib.dates import DateFormatter\n",
    "from matplotlib.axes._axes import _log as matplotlib_axes_logger\n",
    "import seaborn as sns\n",
    "import pandas as pd\n",
    "import earthpy as et\n",
    "import datetime\n",
    "import matplotlib.ticker\n",
    "\n",
    "# Handle data time conversion between pandas and matplotlib\n",
    "from pandas.plotting import register_matplotlib_converters\n",
    "register_matplotlib_converters()\n",
    "\n",
    "# Dealing with error thrown by one of the plots\n",
    "matplotlib_axes_logger.setLevel('ERROR')\n",
    "warnings.filterwarnings('ignore')\n",
    "\n",
    "# Adjust font size and style of all plots in notebook with seaborn\n",
    "sns.set(font_scale=1.5, style=\"whitegrid\")"
   ]
  },
  {
   "cell_type": "code",
   "execution_count": 2,
   "id": "241c7457",
   "metadata": {},
   "outputs": [
    {
     "name": "stdout",
     "output_type": "stream",
     "text": [
      "Path exists, set as working directory\n"
     ]
    }
   ],
   "source": [
    "path_to_working_directory = os.path.join(et.io.HOME, \"earth-analytics\", \"LCRWS\")\n",
    "\n",
    "if os.path.exists(path_to_working_directory):\n",
    "    print(\"Path exists, set as working directory\")\n",
    "    os.chdir(os.path.join(et.io.HOME, \"earth-analytics\", \"LCRWS\"))\n",
    "else:\n",
    "    print(\"Path does not exist, creating directories\")\n",
    "    os.mkdir(path_to_working_directory)\n",
    "    os.chdir(os.path.join(et.io.HOME, \"earth-analytics\", \"LCRWS\"))"
   ]
  },
  {
   "cell_type": "code",
   "execution_count": 3,
   "id": "e72a5d47",
   "metadata": {},
   "outputs": [
    {
     "ename": "NameError",
     "evalue": "name 'h' is not defined",
     "output_type": "error",
     "traceback": [
      "\u001b[1;31m---------------------------------------------------------------------------\u001b[0m",
      "\u001b[1;31mNameError\u001b[0m                                 Traceback (most recent call last)",
      "Input \u001b[1;32mIn [3]\u001b[0m, in \u001b[0;36m<module>\u001b[1;34m\u001b[0m\n\u001b[0;32m      1\u001b[0m f \u001b[38;5;241m=\u001b[39m plt\u001b[38;5;241m.\u001b[39mfigure(figsize\u001b[38;5;241m=\u001b[39m(\u001b[38;5;241m10\u001b[39m,\u001b[38;5;241m10\u001b[39m))\n\u001b[0;32m      2\u001b[0m ax \u001b[38;5;241m=\u001b[39m plt\u001b[38;5;241m.\u001b[39msubplot(\u001b[38;5;241m1\u001b[39m,\u001b[38;5;241m1\u001b[39m,\u001b[38;5;241m1\u001b[39m,aspect\u001b[38;5;241m=\u001b[39m\u001b[38;5;124m'\u001b[39m\u001b[38;5;124mequal\u001b[39m\u001b[38;5;124m'\u001b[39m)\n\u001b[1;32m----> 3\u001b[0m \u001b[38;5;28;01mfor\u001b[39;00m i,t \u001b[38;5;129;01min\u001b[39;00m \u001b[38;5;28menumerate\u001b[39m(\u001b[43mh\u001b[49m\u001b[38;5;241m.\u001b[39mtimes[:\u001b[38;5;241m-\u001b[39m\u001b[38;5;241m6\u001b[39m]):\n\u001b[0;32m      4\u001b[0m     ax\u001b[38;5;241m.\u001b[39mset_title(\u001b[38;5;124m\"\u001b[39m\u001b[38;5;124mtotim:\u001b[39m\u001b[38;5;132;01m{0}\u001b[39;00m\u001b[38;5;124m\"\u001b[39m\u001b[38;5;241m.\u001b[39mformat(t))\n\u001b[0;32m      6\u001b[0m     h\u001b[38;5;241m.\u001b[39mplot(totim\u001b[38;5;241m=\u001b[39mt,mflay\u001b[38;5;241m=\u001b[39m\u001b[38;5;241m3\u001b[39m,contour\u001b[38;5;241m=\u001b[39m\u001b[38;5;28;01mTrue\u001b[39;00m,\n\u001b[0;32m      7\u001b[0m           grid\u001b[38;5;241m=\u001b[39m\u001b[38;5;28;01mTrue\u001b[39;00m,figsize\u001b[38;5;241m=\u001b[39m(\u001b[38;5;241m10\u001b[39m,\u001b[38;5;241m10\u001b[39m),\n\u001b[0;32m      8\u001b[0m           masked_values\u001b[38;5;241m=\u001b[39m[\u001b[38;5;241m-\u001b[39m\u001b[38;5;241m2.0000E+20\u001b[39m,\u001b[38;5;241m-\u001b[39m\u001b[38;5;241m1.0000E+20\u001b[39m],\n\u001b[0;32m      9\u001b[0m           axes\u001b[38;5;241m=\u001b[39m[ax])\n",
      "\u001b[1;31mNameError\u001b[0m: name 'h' is not defined"
     ]
    },
    {
     "data": {
      "image/png": "[encoded data removed]",
      "text/plain": [
       "<Figure size 720x720 with 1 Axes>"
      ]
     },
     "metadata": {},
     "output_type": "display_data"
    }
   ],
   "source": [
    "f = plt.figure(figsize=(10,10))\n",
    "ax = plt.subplot(1,1,1,aspect='equal')\n",
    "for i,t in enumerate(h.times[:-6]):\n",
    "    ax.set_title(\"totim:{0}\".format(t))\n",
    "    \n",
    "    h.plot(totim=t,mflay=3,contour=True,\n",
    "          grid=True,figsize=(10,10),\n",
    "          masked_values=[-2.0000E+20,-1.0000E+20],\n",
    "          axes=[ax])\n",
    "    ax.set_ylim([6000,11000])\n",
    "    ax.set_xlim([11000,6000])\n",
    "    time.sleep(1)\n",
    "    clear_output(True)\n",
    "    display(f)\n",
    "    ax.cla()\n",
    "    "
   ]
  },
  {
   "cell_type": "code",
   "execution_count": null,
   "id": "8f1f0be4",
   "metadata": {},
   "outputs": [],
   "source": []
  }
 ],
 "metadata": {
  "kernelspec": {
   "display_name": "Python 3 (ipykernel)",
   "language": "python",
   "name": "python3"
  },
  "language_info": {
   "codemirror_mode": {
    "name": "ipython",
    "version": 3
   },
   "file_extension": ".py",
   "mimetype": "text/x-python",
   "name": "python",
   "nbconvert_exporter": "python",
   "pygments_lexer": "ipython3",
   "version": "3.8.12"
  },
  "latex_envs": {
   "LaTeX_envs_menu_present": true,
   "autoclose": false,
   "autocomplete": true,
   "bibliofile": "biblio.bib",
   "cite_by": "apalike",
   "current_citInitial": 1,
   "eqLabelWithNumbers": true,
   "eqNumInitial": 1,
   "hotkeys": {
    "equation": "Ctrl-E",
    "itemize": "Ctrl-I"
   },
   "labels_anchors": false,
   "latex_user_defs": false,
   "report_style_numbering": false,
   "user_envs_cfg": false
  }
 },
 "nbformat": 4,
 "nbformat_minor": 5
}
